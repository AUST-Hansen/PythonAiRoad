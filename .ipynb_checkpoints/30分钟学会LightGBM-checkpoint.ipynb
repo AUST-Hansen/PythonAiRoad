{
 "cells": [
  {
   "cell_type": "markdown",
   "metadata": {},
   "source": [
    "# 30分钟学会LightGBM基本原理"
   ]
  },
  {
   "cell_type": "markdown",
   "metadata": {},
   "source": [
    "### 一，LightGBM和XGBoost对比"
   ]
  },
  {
   "cell_type": "markdown",
   "metadata": {},
   "source": [
    "LightGBM可以看成是XGBoost的升级加强版本，2017年经微软推出后，便成为各种数据竞赛中刷分拿奖的神兵利器。\n",
    "\n",
    "正如其名字中的Light所蕴含的那样，和XGBoost相比，LightGBM在大规模数据集上跑起来更加轻盈。\n",
    "\n",
    "* 模型精度：XGBoost和LightGBM相当。\n",
    "\n",
    "* 训练速度：LightGBM远快于XGBoost。\n",
    "\n",
    "* 内存消耗：LightGBM远小于XGBoost。\n",
    "\n",
    "* 缺失值特征：XGBoost和LightGBM都可以自动处理特征缺失值。\n",
    "\n",
    "* 分类特征：XGBoost不支持类别特征，需要OneHot编码预处理。LightGBM直接支持类别特征。\n"
   ]
  },
  {
   "cell_type": "markdown",
   "metadata": {},
   "source": [
    "![](data/LightGBM&XGBoost.png)"
   ]
  },
  {
   "cell_type": "markdown",
   "metadata": {},
   "source": [
    "### 二，LightGBM的性能优化原理"
   ]
  },
  {
   "cell_type": "markdown",
   "metadata": {},
   "source": [
    "LightGBM在XGBoost上主要有3方面的优化。\n",
    "\n",
    "1，Histogram算法:直方图加速算法。\n",
    "\n",
    "2，GOSS算法:基于梯度的单边采样算法。\n",
    "\n",
    "3，EFB算法:互斥特征捆绑算法。\n",
    "\n",
    "可以用如下一个简单公式来说明LightGBM和XGBoost的关系：\n",
    "\n",
    "LightGBM = XGBoost + Histogram + GOSS + EFB。\n"
   ]
  },
  {
   "cell_type": "markdown",
   "metadata": {},
   "source": [
    "那么，Histogram算法，GOSS算法，和EFB算法分别从什么角度对XGBoost进行性能优化呢？\n",
    "\n",
    "我们先概括性地从全局进行分析，然后再逐个加以介绍。\n",
    "\n",
    "XGBoost模型训练的总体的复杂度可以粗略估计为：\n",
    "\n",
    "训练复杂度 = 树的棵数✖️每棵树上叶子的数量✖️生成每片叶子的复杂度\n",
    "\n",
    "由于XGBoost采用的基模型是二叉树，因此生成每片叶子需要分裂一次。\n",
    "\n",
    "而每次分裂，需要遍历所有特征上所有候选分裂点位，计算按照这些候选分裂点位分裂后的全部样本的目标函数增益，找到最大的那个增益对应的特征和候选分裂点位，从而生成一片新叶子。因此生成一片叶子的复杂度可以粗略估计为：\n",
    "\n",
    "生成一片叶子的复杂度 = 特征数量✖️候选分裂点位数量✖️样本的数量。\n",
    "\n",
    "而Hitogram算法的作用是减少候选分裂点位数量，GOSS算法的作用是减少样本的数量，EFB算法的作用是减少特征的数量。\n",
    "\n",
    "通过这3个算法的引入，LightGBM生成一片叶子需要的复杂度大大降低了，从而极大节约了计算时间。\n",
    "\n",
    "同时Histogram算法还将特征由浮点数转换成0~255位的整数进行存储，从而极大节约了内存存储。\n"
   ]
  },
  {
   "cell_type": "markdown",
   "metadata": {},
   "source": [
    "1，Histogram算法"
   ]
  },
  {
   "cell_type": "markdown",
   "metadata": {},
   "source": [
    "直方图算法是替代XGBoost的预排序(pre-sorted)算法的。\n",
    "\n",
    "预排序算法首先将样本按照特征取值排序，然后从全部特征取值中找到最优的分裂点位，该算法的候选分裂点数量与样本数量成正比。\n",
    "\n",
    "而直方图算法通过将连续特征值离散化到固定数量(如255个)的bins上，使得候选分为点位为常数个(num_bins -1).\n",
    "\n",
    "此外，直方图算法还能够作直方图差加速。当节点分裂成两个时，右边叶子节点的直方图等于其父节点的直方图减去左边叶子节点的直方图。\n",
    "\n",
    "从而大大减少构建直方图的计算量。\n"
   ]
  },
  {
   "cell_type": "code",
   "execution_count": null,
   "metadata": {},
   "outputs": [],
   "source": []
  },
  {
   "cell_type": "markdown",
   "metadata": {},
   "source": [
    "2，GOSS算法"
   ]
  },
  {
   "cell_type": "markdown",
   "metadata": {},
   "source": [
    "GOSS算法全称为Gradient-based One-Side Sampling，即基于梯度的单边采样算法。\n",
    "\n",
    "其主要思想是通过对样本采样的方法来减少计算目标函数增益时候的复杂度。\n",
    "\n",
    "但如果对全部样本进行随机采样，势必会对目标函数增益的计算精度造成较大的影响。\n",
    "\n",
    "GOSS算法的创新之处在于它只对梯度绝对值较小的样本按照一定比例进行采样，而保留了梯度绝对值较大的样本。\n",
    "\n",
    "这就是所谓的单边采样。由于目标函数增益主要来自于梯度绝对值较大的样本，因此这种方法在计算性能和计算精度之间取得了很好的平衡。\n"
   ]
  },
  {
   "cell_type": "code",
   "execution_count": null,
   "metadata": {},
   "outputs": [],
   "source": []
  },
  {
   "cell_type": "code",
   "execution_count": null,
   "metadata": {},
   "outputs": [],
   "source": []
  },
  {
   "cell_type": "markdown",
   "metadata": {},
   "source": [
    "3，EFB算法"
   ]
  },
  {
   "cell_type": "markdown",
   "metadata": {},
   "source": [
    "EFB算法全称是Exclusive Feature Bundling，即互斥特征绑定算法。\n",
    "\n",
    "EFB算法可以有效减少用于构建直方图的特征数量，从而降低计算复杂度，尤其是特征中包含大量稀疏特征的时候。\n",
    "\n",
    "在许多应用场景下，数据集中会有大量的稀疏特征，这些稀疏特征大部分样本都取值为0，只有少数样本取值非0。\n",
    "\n",
    "通常可以认为这些稀疏特征是互斥的，即它们几乎不会同时取非零值。\n",
    "\n",
    "利用这种特性，可以通过对某些特征的取值重新编码，将多个这样互斥的特征捆绑成为一个新的特征。\n",
    "\n",
    "这种捆绑本质上是减少了对稀疏特征0值样本的计算。"
   ]
  },
  {
   "cell_type": "code",
   "execution_count": null,
   "metadata": {},
   "outputs": [],
   "source": []
  },
  {
   "cell_type": "markdown",
   "metadata": {},
   "source": [
    "### 三，LightGBM的使用范例"
   ]
  },
  {
   "cell_type": "code",
   "execution_count": null,
   "metadata": {},
   "outputs": [],
   "source": []
  },
  {
   "cell_type": "markdown",
   "metadata": {},
   "source": []
  }
 ],
 "metadata": {
  "kernelspec": {
   "display_name": "Python 3",
   "language": "python",
   "name": "python3"
  },
  "language_info": {
   "codemirror_mode": {
    "name": "ipython",
    "version": 3
   },
   "file_extension": ".py",
   "mimetype": "text/x-python",
   "name": "python",
   "nbconvert_exporter": "python",
   "pygments_lexer": "ipython3",
   "version": "3.7.3"
  }
 },
 "nbformat": 4,
 "nbformat_minor": 2
}
