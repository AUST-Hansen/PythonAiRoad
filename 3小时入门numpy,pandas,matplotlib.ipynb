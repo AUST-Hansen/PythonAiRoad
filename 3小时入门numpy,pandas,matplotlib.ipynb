{
 "cells": [
  {
   "cell_type": "markdown",
   "metadata": {},
   "source": [
    "# 3小时入门numpy,pandas,matplotlib"
   ]
  },
  {
   "cell_type": "markdown",
   "metadata": {},
   "source": [
    "## 一，numpy库"
   ]
  },
  {
   "cell_type": "code",
   "execution_count": 7,
   "metadata": {},
   "outputs": [
    {
     "name": "stdout",
     "output_type": "stream",
     "text": [
      "[ 0  1  4  9 16 25 36 49] [[ 0.  0.]\n",
      " [ 0.  0.]] [ 0.   0.5  1. ] [0 1 2 3 4 5 6 7]\n"
     ]
    }
   ],
   "source": [
    "'1、创建array'\n",
    "import numpy as np\n",
    "a = np.array([t**2 for t in range(8)] )\n",
    "b = np.zeros([2,2]) # 可以创建多维度数组\n",
    "c = np.linspace(0,1,3)  #现性等分函数\n",
    "d = np.array(range(8))\n",
    "print(a,b,c,d)"
   ]
  },
  {
   "cell_type": "code",
   "execution_count": 20,
   "metadata": {},
   "outputs": [
    {
     "name": "stdout",
     "output_type": "stream",
     "text": [
      "第一行 [1 2 4 5]\n",
      "第一列 [1 2 2]\n",
      "切片 [2 4]\n",
      "切片 [1 2]\n",
      "切片 [1 4]\n"
     ]
    },
    {
     "data": {
      "text/plain": [
       "array([4, 5, 4, 7, 5, 9])"
      ]
     },
     "execution_count": 20,
     "metadata": {},
     "output_type": "execute_result"
    }
   ],
   "source": [
    "'2、访问array元素'\n",
    "a = np.array([[1,2,4,5],[2,4,7,3],[2,5,3,9]])\n",
    "# 访问第一行\n",
    "print('第一行',a[0])\n",
    "print('第一列',a[:,0])\n",
    "print('切片', a[0][1:3])\n",
    "print('切片', a[0][:-2])\n",
    "print('切片', a[0][::2])\n",
    "b = a>3 #返回 bool数组\n",
    "c = copy(a[a>3])#利用bool数组选取元素\n",
    "c"
   ]
  },
  {
   "cell_type": "code",
   "execution_count": 10,
   "metadata": {},
   "outputs": [
    {
     "name": "stdout",
     "output_type": "stream",
     "text": [
      "[3 5 7] [-1 -1 -1] [ 2  6 12] [ 0.5  1.   1.5] [0 1 1] [1 4 9] [1 0 1]\n",
      "dim of a = 2\n",
      "shape of a =  (3, 3)\n",
      "max of a = 5\n",
      "sum of a = 28\n",
      "20\n",
      "[17 25 19]\n"
     ]
    }
   ],
   "source": [
    "'3、array 运算'\n",
    "a = np.array([[1,2,4],[2,4,5],[3,5,2]])\n",
    "b = np.array([1,2,3])\n",
    "c = np.array([2,3,4])\n",
    "print(b+c, b-c, b*c, b/2,b//2, b**2,b%2) #常见运算符重载\n",
    "print('dim of a =', ndim(a)) #查看维度\n",
    "print('shape of a = ', shape(a)) #查看大小\n",
    "print('max of a =',a.max())\n",
    "print('sum of a =',a.sum())\n",
    "print(dot(b,c)) #点积\n",
    "print(dot(a,b)) #矩阵乘法"
   ]
  },
  {
   "cell_type": "code",
   "execution_count": 12,
   "metadata": {},
   "outputs": [
    {
     "name": "stdout",
     "output_type": "stream",
     "text": [
      "A= [[ 1.  2.]\n",
      " [ 3.  4.]]\n",
      "转置A.T= [[ 1.  3.]\n",
      " [ 2.  4.]]\n",
      "A的逆A.I= [[-2.   1. ]\n",
      " [ 1.5 -0.5]]\n",
      "矩阵乘法A*A = [[  7.  10.]\n",
      " [ 15.  22.]]\n"
     ]
    }
   ],
   "source": [
    "'4、使用矩阵对象'\n",
    "A = np.matrix([[1.0,2.0],[3.0,4.0]]) #创建矩阵\n",
    "B = np.matrix(np.arange(1,3))\n",
    "print('A=',A)\n",
    "print('转置A.T=',A.T)\n",
    "print('A的逆A.I=',A.I)\n",
    "print('矩阵乘法A*A =',A*A)"
   ]
  },
  {
   "cell_type": "code",
   "execution_count": 21,
   "metadata": {},
   "outputs": [
    {
     "data": {
      "text/plain": [
       "array([ 1.,  2.,  0.], dtype=float32)"
      ]
     },
     "execution_count": 21,
     "metadata": {},
     "output_type": "execute_result"
    }
   ],
   "source": [
    "'5、使用ufunc函数'\n",
    "# numpy中的 ufunc具有向量化特征，\n",
    "# 且用c语言实现速度很快\n",
    "\n",
    "x = np.linspace(0,np.pi,5)\n",
    "y = np.sin(x)#np.sin(x) 作用到x的每一个元素\n",
    "\n",
    "np.sin(x,x) #第二个参数表示将返回值赋给x本身\n",
    "\n",
    "'frompyfunc函数可将普通python函数转换成ufunc函数'\n",
    "\n",
    "def f(x):\n",
    "    y = x if x>= 0 else 0\n",
    "    return(y)\n",
    "\n",
    "uf = np.frompyfunc(f,1,1)  #三个参数依次为 pyfun,nin,nout\n",
    "z = uf([1,2,-1])   #返回结果数据元素类型是 object\n",
    "\n",
    "#使用array对象的 astype方法将其转换成 np.float32\n",
    "z.astype('f4') "
   ]
  },
  {
   "cell_type": "markdown",
   "metadata": {},
   "source": [
    "## 二、pandas库"
   ]
  },
  {
   "cell_type": "code",
   "execution_count": 1,
   "metadata": {},
   "outputs": [
    {
     "name": "stdout",
     "output_type": "stream",
     "text": [
      "one      1.0\n",
      "two      NaN\n",
      "three    6.0\n",
      "four     8.0\n",
      "dtype: float64\n",
      "Index(['one', 'two', 'three', 'four'], dtype='object')\n"
     ]
    }
   ],
   "source": [
    "'1,Series对象'\n",
    "import numpy as np\n",
    "import pandas as pd\n",
    "s = pd.Series([1,np.nan,6,8])\n",
    "s.index = ['one','two','three','four']\n",
    "print(s)\n",
    "print(s.index)"
   ]
  },
  {
   "cell_type": "code",
   "execution_count": 22,
   "metadata": {},
   "outputs": [
    {
     "data": {
      "text/html": [
       "<div>\n",
       "<style>\n",
       "    .dataframe thead tr:only-child th {\n",
       "        text-align: right;\n",
       "    }\n",
       "\n",
       "    .dataframe thead th {\n",
       "        text-align: left;\n",
       "    }\n",
       "\n",
       "    .dataframe tbody tr th {\n",
       "        vertical-align: top;\n",
       "    }\n",
       "</style>\n",
       "<table border=\"1\" class=\"dataframe\">\n",
       "  <thead>\n",
       "    <tr style=\"text-align: right;\">\n",
       "      <th></th>\n",
       "      <th>A</th>\n",
       "      <th>B</th>\n",
       "      <th>C</th>\n",
       "      <th>D</th>\n",
       "    </tr>\n",
       "  </thead>\n",
       "  <tbody>\n",
       "    <tr>\n",
       "      <th>2013-01-01</th>\n",
       "      <td>-0.807534</td>\n",
       "      <td>-0.171783</td>\n",
       "      <td>-0.575913</td>\n",
       "      <td>0.682260</td>\n",
       "    </tr>\n",
       "    <tr>\n",
       "      <th>2013-01-02</th>\n",
       "      <td>-0.145923</td>\n",
       "      <td>-0.830515</td>\n",
       "      <td>1.533675</td>\n",
       "      <td>0.413450</td>\n",
       "    </tr>\n",
       "    <tr>\n",
       "      <th>2013-01-03</th>\n",
       "      <td>0.649131</td>\n",
       "      <td>-0.587779</td>\n",
       "      <td>-0.126385</td>\n",
       "      <td>-1.928474</td>\n",
       "    </tr>\n",
       "  </tbody>\n",
       "</table>\n",
       "</div>"
      ],
      "text/plain": [
       "                   A         B         C         D\n",
       "2013-01-01 -0.807534 -0.171783 -0.575913  0.682260\n",
       "2013-01-02 -0.145923 -0.830515  1.533675  0.413450\n",
       "2013-01-03  0.649131 -0.587779 -0.126385 -1.928474"
      ]
     },
     "execution_count": 22,
     "metadata": {},
     "output_type": "execute_result"
    }
   ],
   "source": [
    "'2,用array创建DataFrame对象'\n",
    "dates = pd.date_range('20130101',periods=3)  \n",
    "df = pd.DataFrame(np.random.randn(3,4),\n",
    "                  index=dates,columns=list('ABCD'))\n",
    "df"
   ]
  },
  {
   "cell_type": "code",
   "execution_count": null,
   "metadata": {},
   "outputs": [],
   "source": []
  },
  {
   "cell_type": "code",
   "execution_count": 24,
   "metadata": {},
   "outputs": [
    {
     "data": {
      "text/html": [
       "<div>\n",
       "<style>\n",
       "    .dataframe thead tr:only-child th {\n",
       "        text-align: right;\n",
       "    }\n",
       "\n",
       "    .dataframe thead th {\n",
       "        text-align: left;\n",
       "    }\n",
       "\n",
       "    .dataframe tbody tr th {\n",
       "        vertical-align: top;\n",
       "    }\n",
       "</style>\n",
       "<table border=\"1\" class=\"dataframe\">\n",
       "  <thead>\n",
       "    <tr style=\"text-align: right;\">\n",
       "      <th></th>\n",
       "      <th>name</th>\n",
       "      <th>age</th>\n",
       "      <th>gender</th>\n",
       "    </tr>\n",
       "  </thead>\n",
       "  <tbody>\n",
       "    <tr>\n",
       "      <th>0</th>\n",
       "      <td>李雷</td>\n",
       "      <td>22</td>\n",
       "      <td>男</td>\n",
       "    </tr>\n",
       "    <tr>\n",
       "      <th>1</th>\n",
       "      <td>韩梅梅</td>\n",
       "      <td>23</td>\n",
       "      <td>女</td>\n",
       "    </tr>\n",
       "    <tr>\n",
       "      <th>2</th>\n",
       "      <td>吉姆</td>\n",
       "      <td>21</td>\n",
       "      <td>男</td>\n",
       "    </tr>\n",
       "  </tbody>\n",
       "</table>\n",
       "</div>"
      ],
      "text/plain": [
       "  name  age gender\n",
       "0   李雷   22      男\n",
       "1  韩梅梅   23      女\n",
       "2   吉姆   21      男"
      ]
     },
     "execution_count": 24,
     "metadata": {},
     "output_type": "execute_result"
    }
   ],
   "source": [
    "'3，导入excel文档创建DataFrame对象'\n",
    "classmates = pd.read_excel('classmates.xlsx')\n",
    "classmates.columns = ['name','age','gender']\n",
    "classmates"
   ]
  },
  {
   "cell_type": "code",
   "execution_count": 25,
   "metadata": {},
   "outputs": [
    {
     "data": {
      "text/html": [
       "<div>\n",
       "<style>\n",
       "    .dataframe thead tr:only-child th {\n",
       "        text-align: right;\n",
       "    }\n",
       "\n",
       "    .dataframe thead th {\n",
       "        text-align: left;\n",
       "    }\n",
       "\n",
       "    .dataframe tbody tr th {\n",
       "        vertical-align: top;\n",
       "    }\n",
       "</style>\n",
       "<table border=\"1\" class=\"dataframe\">\n",
       "  <thead>\n",
       "    <tr style=\"text-align: right;\">\n",
       "      <th></th>\n",
       "      <th>name</th>\n",
       "      <th>age</th>\n",
       "      <th>gender</th>\n",
       "    </tr>\n",
       "  </thead>\n",
       "  <tbody>\n",
       "    <tr>\n",
       "      <th>0</th>\n",
       "      <td>李雷</td>\n",
       "      <td>22</td>\n",
       "      <td>男</td>\n",
       "    </tr>\n",
       "    <tr>\n",
       "      <th>1</th>\n",
       "      <td>韩梅梅</td>\n",
       "      <td>23</td>\n",
       "      <td>女</td>\n",
       "    </tr>\n",
       "    <tr>\n",
       "      <th>2</th>\n",
       "      <td>吉姆</td>\n",
       "      <td>21</td>\n",
       "      <td>男</td>\n",
       "    </tr>\n",
       "    <tr>\n",
       "      <th>3</th>\n",
       "      <td>安妮</td>\n",
       "      <td>24</td>\n",
       "      <td>女</td>\n",
       "    </tr>\n",
       "    <tr>\n",
       "      <th>4</th>\n",
       "      <td>丽丽</td>\n",
       "      <td>女</td>\n",
       "      <td>21</td>\n",
       "    </tr>\n",
       "  </tbody>\n",
       "</table>\n",
       "</div>"
      ],
      "text/plain": [
       "  name age gender\n",
       "0   李雷  22      男\n",
       "1  韩梅梅  23      女\n",
       "2   吉姆  21      男\n",
       "3   安妮  24      女\n",
       "4   丽丽   女     21"
      ]
     },
     "execution_count": 25,
     "metadata": {},
     "output_type": "execute_result"
    }
   ],
   "source": [
    "'4,增加行'\n",
    "classmates.loc[3] = {'name':'安妮','age':24,'gender':'女'}\n",
    "classmates = classmates.append(pd.DataFrame([['丽丽','女','21']],\\\n",
    "             columns=classmates.columns),ignore_index=True)\n",
    "# ignore_index=True 表示索引重置\n",
    "classmates"
   ]
  },
  {
   "cell_type": "code",
   "execution_count": 26,
   "metadata": {},
   "outputs": [
    {
     "data": {
      "text/html": [
       "<div>\n",
       "<style>\n",
       "    .dataframe thead tr:only-child th {\n",
       "        text-align: right;\n",
       "    }\n",
       "\n",
       "    .dataframe thead th {\n",
       "        text-align: left;\n",
       "    }\n",
       "\n",
       "    .dataframe tbody tr th {\n",
       "        vertical-align: top;\n",
       "    }\n",
       "</style>\n",
       "<table border=\"1\" class=\"dataframe\">\n",
       "  <thead>\n",
       "    <tr style=\"text-align: right;\">\n",
       "      <th></th>\n",
       "      <th>name</th>\n",
       "      <th>age</th>\n",
       "      <th>gender</th>\n",
       "    </tr>\n",
       "  </thead>\n",
       "  <tbody>\n",
       "    <tr>\n",
       "      <th>0</th>\n",
       "      <td>李雷</td>\n",
       "      <td>22</td>\n",
       "      <td>男</td>\n",
       "    </tr>\n",
       "    <tr>\n",
       "      <th>1</th>\n",
       "      <td>韩梅梅</td>\n",
       "      <td>23</td>\n",
       "      <td>女</td>\n",
       "    </tr>\n",
       "    <tr>\n",
       "      <th>2</th>\n",
       "      <td>吉姆</td>\n",
       "      <td>21</td>\n",
       "      <td>男</td>\n",
       "    </tr>\n",
       "  </tbody>\n",
       "</table>\n",
       "</div>"
      ],
      "text/plain": [
       "  name age gender\n",
       "0   李雷  22      男\n",
       "1  韩梅梅  23      女\n",
       "2   吉姆  21      男"
      ]
     },
     "execution_count": 26,
     "metadata": {},
     "output_type": "execute_result"
    }
   ],
   "source": [
    "'5,删除行'\n",
    "# drop 和 append作用相反\n",
    "classmates = classmates.drop([3,4]) # 删除并生成新的数据框 \n",
    "classmates"
   ]
  },
  {
   "cell_type": "code",
   "execution_count": 7,
   "metadata": {},
   "outputs": [
    {
     "data": {
      "text/html": [
       "<div>\n",
       "<style>\n",
       "    .dataframe thead tr:only-child th {\n",
       "        text-align: right;\n",
       "    }\n",
       "\n",
       "    .dataframe thead th {\n",
       "        text-align: left;\n",
       "    }\n",
       "\n",
       "    .dataframe tbody tr th {\n",
       "        vertical-align: top;\n",
       "    }\n",
       "</style>\n",
       "<table border=\"1\" class=\"dataframe\">\n",
       "  <thead>\n",
       "    <tr style=\"text-align: right;\">\n",
       "      <th></th>\n",
       "      <th>name</th>\n",
       "      <th>age</th>\n",
       "      <th>height</th>\n",
       "      <th>gender</th>\n",
       "      <th>hobby</th>\n",
       "    </tr>\n",
       "  </thead>\n",
       "  <tbody>\n",
       "    <tr>\n",
       "      <th>0</th>\n",
       "      <td>李雷</td>\n",
       "      <td>22</td>\n",
       "      <td>170</td>\n",
       "      <td>男</td>\n",
       "      <td>浪</td>\n",
       "    </tr>\n",
       "    <tr>\n",
       "      <th>1</th>\n",
       "      <td>韩梅梅</td>\n",
       "      <td>23</td>\n",
       "      <td>160</td>\n",
       "      <td>女</td>\n",
       "      <td>耍</td>\n",
       "    </tr>\n",
       "    <tr>\n",
       "      <th>2</th>\n",
       "      <td>吉姆</td>\n",
       "      <td>21</td>\n",
       "      <td>165</td>\n",
       "      <td>男</td>\n",
       "      <td>约</td>\n",
       "    </tr>\n",
       "  </tbody>\n",
       "</table>\n",
       "</div>"
      ],
      "text/plain": [
       "  name age  height gender hobby\n",
       "0   李雷  22     170      男     浪\n",
       "1  韩梅梅  23     160      女     耍\n",
       "2   吉姆  21     165      男     约"
      ]
     },
     "execution_count": 7,
     "metadata": {},
     "output_type": "execute_result"
    }
   ],
   "source": [
    "'6，增加列'\n",
    "hobby = ['浪','耍','约']\n",
    "classmates['hobby'] = hobby\n",
    "height = [170,160,165]\n",
    "classmates.insert(2,'height',height) # 插入到第3列\n",
    "classmates"
   ]
  },
  {
   "cell_type": "code",
   "execution_count": 8,
   "metadata": {},
   "outputs": [
    {
     "data": {
      "text/html": [
       "<div>\n",
       "<style>\n",
       "    .dataframe thead tr:only-child th {\n",
       "        text-align: right;\n",
       "    }\n",
       "\n",
       "    .dataframe thead th {\n",
       "        text-align: left;\n",
       "    }\n",
       "\n",
       "    .dataframe tbody tr th {\n",
       "        vertical-align: top;\n",
       "    }\n",
       "</style>\n",
       "<table border=\"1\" class=\"dataframe\">\n",
       "  <thead>\n",
       "    <tr style=\"text-align: right;\">\n",
       "      <th></th>\n",
       "      <th>name</th>\n",
       "      <th>age</th>\n",
       "      <th>gender</th>\n",
       "    </tr>\n",
       "  </thead>\n",
       "  <tbody>\n",
       "    <tr>\n",
       "      <th>0</th>\n",
       "      <td>李雷</td>\n",
       "      <td>22</td>\n",
       "      <td>男</td>\n",
       "    </tr>\n",
       "    <tr>\n",
       "      <th>1</th>\n",
       "      <td>韩梅梅</td>\n",
       "      <td>23</td>\n",
       "      <td>女</td>\n",
       "    </tr>\n",
       "    <tr>\n",
       "      <th>2</th>\n",
       "      <td>吉姆</td>\n",
       "      <td>21</td>\n",
       "      <td>男</td>\n",
       "    </tr>\n",
       "  </tbody>\n",
       "</table>\n",
       "</div>"
      ],
      "text/plain": [
       "  name age gender\n",
       "0   李雷  22      男\n",
       "1  韩梅梅  23      女\n",
       "2   吉姆  21      男"
      ]
     },
     "execution_count": 8,
     "metadata": {},
     "output_type": "execute_result"
    }
   ],
   "source": [
    "'7,删除列'\n",
    "classmates = classmates.drop(['height'],axis = 1) \n",
    "del classmates['hobby']  #永久删除\n",
    "classmates"
   ]
  },
  {
   "cell_type": "code",
   "execution_count": 9,
   "metadata": {},
   "outputs": [
    {
     "data": {
      "text/html": [
       "<div>\n",
       "<style>\n",
       "    .dataframe thead tr:only-child th {\n",
       "        text-align: right;\n",
       "    }\n",
       "\n",
       "    .dataframe thead th {\n",
       "        text-align: left;\n",
       "    }\n",
       "\n",
       "    .dataframe tbody tr th {\n",
       "        vertical-align: top;\n",
       "    }\n",
       "</style>\n",
       "<table border=\"1\" class=\"dataframe\">\n",
       "  <thead>\n",
       "    <tr style=\"text-align: right;\">\n",
       "      <th></th>\n",
       "      <th>name</th>\n",
       "      <th>gender</th>\n",
       "      <th>age</th>\n",
       "    </tr>\n",
       "  </thead>\n",
       "  <tbody>\n",
       "    <tr>\n",
       "      <th>0</th>\n",
       "      <td>李雷</td>\n",
       "      <td>男</td>\n",
       "      <td>22</td>\n",
       "    </tr>\n",
       "    <tr>\n",
       "      <th>1</th>\n",
       "      <td>韩梅梅</td>\n",
       "      <td>女</td>\n",
       "      <td>23</td>\n",
       "    </tr>\n",
       "    <tr>\n",
       "      <th>2</th>\n",
       "      <td>吉姆</td>\n",
       "      <td>男</td>\n",
       "      <td>21</td>\n",
       "    </tr>\n",
       "  </tbody>\n",
       "</table>\n",
       "</div>"
      ],
      "text/plain": [
       "  name gender age\n",
       "0   李雷      男  22\n",
       "1  韩梅梅      女  23\n",
       "2   吉姆      男  21"
      ]
     },
     "execution_count": 9,
     "metadata": {},
     "output_type": "execute_result"
    }
   ],
   "source": [
    "'8,移动列'\n",
    "# 将 gender 移动到 age 前面\n",
    "gender = classmates.pop('gender') # 先弹出\n",
    "classmates.insert(1,'gender',gender) # 再插入到适当位置\n",
    "classmates"
   ]
  },
  {
   "cell_type": "code",
   "execution_count": 27,
   "metadata": {},
   "outputs": [
    {
     "data": {
      "text/html": [
       "<div>\n",
       "<style>\n",
       "    .dataframe thead tr:only-child th {\n",
       "        text-align: right;\n",
       "    }\n",
       "\n",
       "    .dataframe thead th {\n",
       "        text-align: left;\n",
       "    }\n",
       "\n",
       "    .dataframe tbody tr th {\n",
       "        vertical-align: top;\n",
       "    }\n",
       "</style>\n",
       "<table border=\"1\" class=\"dataframe\">\n",
       "  <thead>\n",
       "    <tr style=\"text-align: right;\">\n",
       "      <th></th>\n",
       "      <th>name</th>\n",
       "      <th>age</th>\n",
       "      <th>gender</th>\n",
       "    </tr>\n",
       "  </thead>\n",
       "  <tbody>\n",
       "    <tr>\n",
       "      <th>0</th>\n",
       "      <td>李雷</td>\n",
       "      <td>22</td>\n",
       "      <td>男</td>\n",
       "    </tr>\n",
       "    <tr>\n",
       "      <th>1</th>\n",
       "      <td>韩梅梅</td>\n",
       "      <td>23</td>\n",
       "      <td>女</td>\n",
       "    </tr>\n",
       "    <tr>\n",
       "      <th>2</th>\n",
       "      <td>吉姆</td>\n",
       "      <td>21</td>\n",
       "      <td>男</td>\n",
       "    </tr>\n",
       "  </tbody>\n",
       "</table>\n",
       "</div>"
      ],
      "text/plain": [
       "  name age gender\n",
       "0   李雷  22      男\n",
       "1  韩梅梅  23      女\n",
       "2   吉姆  21      男"
      ]
     },
     "execution_count": 27,
     "metadata": {},
     "output_type": "execute_result"
    }
   ],
   "source": [
    "'9,排序'\n",
    "classmates.sort_values(['name','age'],\n",
    "                       ascending = [0,1]) #按列排序\n",
    "classmates.sort_index()  #按索引排序"
   ]
  },
  {
   "cell_type": "code",
   "execution_count": 12,
   "metadata": {},
   "outputs": [
    {
     "data": {
      "text/html": [
       "<div>\n",
       "<style>\n",
       "    .dataframe thead tr:only-child th {\n",
       "        text-align: right;\n",
       "    }\n",
       "\n",
       "    .dataframe thead th {\n",
       "        text-align: left;\n",
       "    }\n",
       "\n",
       "    .dataframe tbody tr th {\n",
       "        vertical-align: top;\n",
       "    }\n",
       "</style>\n",
       "<table border=\"1\" class=\"dataframe\">\n",
       "  <thead>\n",
       "    <tr style=\"text-align: right;\">\n",
       "      <th></th>\n",
       "      <th>name</th>\n",
       "      <th>gender</th>\n",
       "      <th>age</th>\n",
       "      <th>hobby</th>\n",
       "    </tr>\n",
       "  </thead>\n",
       "  <tbody>\n",
       "    <tr>\n",
       "      <th>LiLei</th>\n",
       "      <td>李雷</td>\n",
       "      <td>男</td>\n",
       "      <td>22</td>\n",
       "      <td>浪</td>\n",
       "    </tr>\n",
       "  </tbody>\n",
       "</table>\n",
       "</div>"
      ],
      "text/plain": [
       "      name gender age hobby\n",
       "LiLei   李雷      男  22     浪"
      ]
     },
     "execution_count": 12,
     "metadata": {},
     "output_type": "execute_result"
    }
   ],
   "source": [
    "'10,拼接'\n",
    "friends = pd.DataFrame([['李雷','浪'],['大锤','约']],\\\n",
    "        columns = ['name','hobby'],index = ['LiLei','Dachui'])\n",
    "classmates.index = ['LiLei','HanMeiMei','Ann']\n",
    "friends = friends.drop(['name'],axis = 1)\n",
    "\n",
    "# 使用 concat 函数拼接,纵向拼接\n",
    "oldguys = pd.concat([classmates,friends],axis = 1,join='inner') \n",
    "oldguys"
   ]
  },
  {
   "cell_type": "code",
   "execution_count": 13,
   "metadata": {},
   "outputs": [
    {
     "data": {
      "text/html": [
       "<div>\n",
       "<style>\n",
       "    .dataframe thead tr:only-child th {\n",
       "        text-align: right;\n",
       "    }\n",
       "\n",
       "    .dataframe thead th {\n",
       "        text-align: left;\n",
       "    }\n",
       "\n",
       "    .dataframe tbody tr th {\n",
       "        vertical-align: top;\n",
       "    }\n",
       "</style>\n",
       "<table border=\"1\" class=\"dataframe\">\n",
       "  <thead>\n",
       "    <tr style=\"text-align: right;\">\n",
       "      <th></th>\n",
       "      <th>name</th>\n",
       "      <th>gender</th>\n",
       "      <th>age</th>\n",
       "      <th>hobby</th>\n",
       "    </tr>\n",
       "  </thead>\n",
       "  <tbody>\n",
       "    <tr>\n",
       "      <th>LiLei</th>\n",
       "      <td>李雷</td>\n",
       "      <td>男</td>\n",
       "      <td>22</td>\n",
       "      <td>浪</td>\n",
       "    </tr>\n",
       "  </tbody>\n",
       "</table>\n",
       "</div>"
      ],
      "text/plain": [
       "      name gender age hobby\n",
       "LiLei   李雷      男  22     浪"
      ]
     },
     "execution_count": 13,
     "metadata": {},
     "output_type": "execute_result"
    }
   ],
   "source": [
    "# 使用 join 方法拼接\n",
    "oldguys = classmates.join(friends,how= 'inner')  \n",
    "oldguys"
   ]
  },
  {
   "cell_type": "code",
   "execution_count": 15,
   "metadata": {},
   "outputs": [
    {
     "data": {
      "text/html": [
       "<div>\n",
       "<style>\n",
       "    .dataframe thead tr:only-child th {\n",
       "        text-align: right;\n",
       "    }\n",
       "\n",
       "    .dataframe thead th {\n",
       "        text-align: left;\n",
       "    }\n",
       "\n",
       "    .dataframe tbody tr th {\n",
       "        vertical-align: top;\n",
       "    }\n",
       "</style>\n",
       "<table border=\"1\" class=\"dataframe\">\n",
       "  <thead>\n",
       "    <tr style=\"text-align: right;\">\n",
       "      <th></th>\n",
       "      <th>name</th>\n",
       "      <th>gender</th>\n",
       "      <th>age</th>\n",
       "    </tr>\n",
       "  </thead>\n",
       "  <tbody>\n",
       "    <tr>\n",
       "      <th>HanMeiMei</th>\n",
       "      <td>韩梅梅</td>\n",
       "      <td>女</td>\n",
       "      <td>23</td>\n",
       "    </tr>\n",
       "  </tbody>\n",
       "</table>\n",
       "</div>"
      ],
      "text/plain": [
       "          name gender age\n",
       "HanMeiMei  韩梅梅      女  23"
      ]
     },
     "execution_count": 15,
     "metadata": {},
     "output_type": "execute_result"
    }
   ],
   "source": [
    "'11,选取数据'\n",
    "classmates.shape #查看形状'\n",
    "classmates.head(3) #前3行\n",
    "classmates.tail(3) #后3行\n",
    "classmates[1:3] #选择多行\n",
    "classmates['LiLei':'Ann'] #选择多行\n",
    "classmates.name #提取一列返回series\n",
    "classmates[['name','age']] #选择多列\n",
    "classmates.loc['LiLei':'Ann',:] #用标签查看数据\n",
    "classmates.iloc[0:2,:] #用下标查看数据\n",
    "\n",
    "#布尔索引\n",
    "classmates[(classmates['age']>22) & (classmates.age<24)] "
   ]
  },
  {
   "cell_type": "code",
   "execution_count": 28,
   "metadata": {},
   "outputs": [],
   "source": [
    "'12,导出到csv和 excel 文档'\n",
    "classmates.to_csv('myclassmates.csv')\n",
    "# 使用writer 可以在一个excel文档里写多个表格\n",
    "\n",
    "# 导出dataframe到指定sheet\n",
    "classmates.to_excel('myclassmates.xlsx','sheet2')\n",
    "\n",
    "# 导出多个dataframe到同一个excel表格多个sheet\n",
    "friends = classmates[0:1].copy()\n",
    "writer = pd.ExcelWriter(\"oldguys.xlsx\")\n",
    "classmates.to_excel(writer,sheet_name = \"classmates\")\n",
    "friends.to_excel(writer,sheet_name = \"friends\")\n",
    "writer.save()"
   ]
  },
  {
   "cell_type": "code",
   "execution_count": 29,
   "metadata": {},
   "outputs": [
    {
     "data": {
      "text/html": [
       "<div>\n",
       "<style>\n",
       "    .dataframe thead tr:only-child th {\n",
       "        text-align: right;\n",
       "    }\n",
       "\n",
       "    .dataframe thead th {\n",
       "        text-align: left;\n",
       "    }\n",
       "\n",
       "    .dataframe tbody tr th {\n",
       "        vertical-align: top;\n",
       "    }\n",
       "</style>\n",
       "<table border=\"1\" class=\"dataframe\">\n",
       "  <thead>\n",
       "    <tr style=\"text-align: right;\">\n",
       "      <th></th>\n",
       "      <th>A</th>\n",
       "      <th>B</th>\n",
       "      <th>C</th>\n",
       "      <th>D</th>\n",
       "      <th>E</th>\n",
       "    </tr>\n",
       "  </thead>\n",
       "  <tbody>\n",
       "    <tr>\n",
       "      <th>count</th>\n",
       "      <td>6.000000</td>\n",
       "      <td>6.000000</td>\n",
       "      <td>6.000000</td>\n",
       "      <td>6.000000</td>\n",
       "      <td>6.000000</td>\n",
       "    </tr>\n",
       "    <tr>\n",
       "      <th>mean</th>\n",
       "      <td>-0.369763</td>\n",
       "      <td>-0.517788</td>\n",
       "      <td>-0.950100</td>\n",
       "      <td>-0.294953</td>\n",
       "      <td>0.153838</td>\n",
       "    </tr>\n",
       "    <tr>\n",
       "      <th>std</th>\n",
       "      <td>1.025086</td>\n",
       "      <td>1.186573</td>\n",
       "      <td>0.710690</td>\n",
       "      <td>0.848069</td>\n",
       "      <td>0.942500</td>\n",
       "    </tr>\n",
       "    <tr>\n",
       "      <th>min</th>\n",
       "      <td>-1.425065</td>\n",
       "      <td>-1.700938</td>\n",
       "      <td>-1.973642</td>\n",
       "      <td>-1.205523</td>\n",
       "      <td>-1.477654</td>\n",
       "    </tr>\n",
       "    <tr>\n",
       "      <th>25%</th>\n",
       "      <td>-1.082210</td>\n",
       "      <td>-1.525232</td>\n",
       "      <td>-1.252437</td>\n",
       "      <td>-0.945107</td>\n",
       "      <td>-0.061296</td>\n",
       "    </tr>\n",
       "    <tr>\n",
       "      <th>50%</th>\n",
       "      <td>-0.652042</td>\n",
       "      <td>-0.649557</td>\n",
       "      <td>-0.980377</td>\n",
       "      <td>-0.231903</td>\n",
       "      <td>0.177644</td>\n",
       "    </tr>\n",
       "    <tr>\n",
       "      <th>75%</th>\n",
       "      <td>0.226716</td>\n",
       "      <td>0.159028</td>\n",
       "      <td>-0.661745</td>\n",
       "      <td>-0.064151</td>\n",
       "      <td>0.875445</td>\n",
       "    </tr>\n",
       "    <tr>\n",
       "      <th>max</th>\n",
       "      <td>1.216534</td>\n",
       "      <td>1.281890</td>\n",
       "      <td>0.132455</td>\n",
       "      <td>1.090688</td>\n",
       "      <td>1.078291</td>\n",
       "    </tr>\n",
       "  </tbody>\n",
       "</table>\n",
       "</div>"
      ],
      "text/plain": [
       "              A         B         C         D         E\n",
       "count  6.000000  6.000000  6.000000  6.000000  6.000000\n",
       "mean  -0.369763 -0.517788 -0.950100 -0.294953  0.153838\n",
       "std    1.025086  1.186573  0.710690  0.848069  0.942500\n",
       "min   -1.425065 -1.700938 -1.973642 -1.205523 -1.477654\n",
       "25%   -1.082210 -1.525232 -1.252437 -0.945107 -0.061296\n",
       "50%   -0.652042 -0.649557 -0.980377 -0.231903  0.177644\n",
       "75%    0.226716  0.159028 -0.661745 -0.064151  0.875445\n",
       "max    1.216534  1.281890  0.132455  1.090688  1.078291"
      ]
     },
     "execution_count": 29,
     "metadata": {},
     "output_type": "execute_result"
    }
   ],
   "source": [
    "'13,常用统计函数'\n",
    "import pandas as pd\n",
    "import numpy as np\n",
    "dates = pd.date_range('20170501',periods=6)\n",
    "df = pd.DataFrame(data=np.random.randn(6,5),\n",
    "                  index = dates,columns = list('ABCDE'))\n",
    "df.describe()"
   ]
  },
  {
   "cell_type": "code",
   "execution_count": 30,
   "metadata": {},
   "outputs": [
    {
     "data": {
      "text/html": [
       "<div>\n",
       "<style>\n",
       "    .dataframe thead tr:only-child th {\n",
       "        text-align: right;\n",
       "    }\n",
       "\n",
       "    .dataframe thead th {\n",
       "        text-align: left;\n",
       "    }\n",
       "\n",
       "    .dataframe tbody tr th {\n",
       "        vertical-align: top;\n",
       "    }\n",
       "</style>\n",
       "<table border=\"1\" class=\"dataframe\">\n",
       "  <thead>\n",
       "    <tr style=\"text-align: right;\">\n",
       "      <th></th>\n",
       "      <th>A</th>\n",
       "      <th>B</th>\n",
       "      <th>C</th>\n",
       "      <th>D</th>\n",
       "      <th>E</th>\n",
       "    </tr>\n",
       "  </thead>\n",
       "  <tbody>\n",
       "    <tr>\n",
       "      <th>2017-05-01</th>\n",
       "      <td>-70.88%</td>\n",
       "      <td>-166.32%</td>\n",
       "      <td>13.25%</td>\n",
       "      <td>-116.74%</td>\n",
       "      <td>-6.33%</td>\n",
       "    </tr>\n",
       "    <tr>\n",
       "      <th>2017-05-02</th>\n",
       "      <td>121.65%</td>\n",
       "      <td>-170.09%</td>\n",
       "      <td>-99.27%</td>\n",
       "      <td>109.07%</td>\n",
       "      <td>41.05%</td>\n",
       "    </tr>\n",
       "    <tr>\n",
       "      <th>2017-05-03</th>\n",
       "      <td>-142.51%</td>\n",
       "      <td>128.19%</td>\n",
       "      <td>-197.36%</td>\n",
       "      <td>-120.55%</td>\n",
       "      <td>107.83%</td>\n",
       "    </tr>\n",
       "    <tr>\n",
       "      <th>2017-05-04</th>\n",
       "      <td>-59.53%</td>\n",
       "      <td>-18.78%</td>\n",
       "      <td>-133.90%</td>\n",
       "      <td>-18.55%</td>\n",
       "      <td>-5.52%</td>\n",
       "    </tr>\n",
       "    <tr>\n",
       "      <th>2017-05-05</th>\n",
       "      <td>50.07%</td>\n",
       "      <td>-111.13%</td>\n",
       "      <td>-55.97%</td>\n",
       "      <td>-27.83%</td>\n",
       "      <td>103.04%</td>\n",
       "    </tr>\n",
       "    <tr>\n",
       "      <th>2017-05-06</th>\n",
       "      <td>-120.67%</td>\n",
       "      <td>27.46%</td>\n",
       "      <td>-96.80%</td>\n",
       "      <td>-2.37%</td>\n",
       "      <td>-147.77%</td>\n",
       "    </tr>\n",
       "  </tbody>\n",
       "</table>\n",
       "</div>"
      ],
      "text/plain": [
       "                   A         B         C         D         E\n",
       "2017-05-01   -70.88%  -166.32%    13.25%  -116.74%    -6.33%\n",
       "2017-05-02   121.65%  -170.09%   -99.27%   109.07%    41.05%\n",
       "2017-05-03  -142.51%   128.19%  -197.36%  -120.55%   107.83%\n",
       "2017-05-04   -59.53%   -18.78%  -133.90%   -18.55%    -5.52%\n",
       "2017-05-05    50.07%  -111.13%   -55.97%   -27.83%   103.04%\n",
       "2017-05-06  -120.67%    27.46%   -96.80%    -2.37%  -147.77%"
      ]
     },
     "execution_count": 30,
     "metadata": {},
     "output_type": "execute_result"
    }
   ],
   "source": [
    "df.mean() #求每列平均\n",
    "df.sum(1) #按行求和 \n",
    "\n",
    "df.apply(max,1) #求每行最大值\n",
    "\n",
    "MaxDrawDown = lambda x:min([(x[i]-max(x[0:i+1])+0.0)/max(x[0:i+1]) \\\n",
    "         for i in range(len(x))]) #定义最大回撤函数\n",
    "df.apply(MaxDrawDown) #调用lamda函数\n",
    "\n",
    "formatdf = df.applymap(lambda x:format(x, '.2%')) #转换成百分数显示\n",
    "formatdf"
   ]
  },
  {
   "cell_type": "code",
   "execution_count": 31,
   "metadata": {},
   "outputs": [
    {
     "data": {
      "text/html": [
       "<div>\n",
       "<style>\n",
       "    .dataframe thead tr:only-child th {\n",
       "        text-align: right;\n",
       "    }\n",
       "\n",
       "    .dataframe thead th {\n",
       "        text-align: left;\n",
       "    }\n",
       "\n",
       "    .dataframe tbody tr th {\n",
       "        vertical-align: top;\n",
       "    }\n",
       "</style>\n",
       "<table border=\"1\" class=\"dataframe\">\n",
       "  <thead>\n",
       "    <tr style=\"text-align: right;\">\n",
       "      <th></th>\n",
       "      <th>A</th>\n",
       "      <th>B</th>\n",
       "      <th>C</th>\n",
       "      <th>D</th>\n",
       "      <th>E</th>\n",
       "    </tr>\n",
       "  </thead>\n",
       "  <tbody>\n",
       "    <tr>\n",
       "      <th>2017-05-01</th>\n",
       "      <td>0.000000</td>\n",
       "      <td>0.000000</td>\n",
       "      <td>0.000000</td>\n",
       "      <td>0.000000</td>\n",
       "      <td>0.000000</td>\n",
       "    </tr>\n",
       "    <tr>\n",
       "      <th>2017-05-02</th>\n",
       "      <td>-2.716441</td>\n",
       "      <td>0.022692</td>\n",
       "      <td>-8.494788</td>\n",
       "      <td>-1.934302</td>\n",
       "      <td>-7.483921</td>\n",
       "    </tr>\n",
       "    <tr>\n",
       "      <th>2017-05-03</th>\n",
       "      <td>-2.171414</td>\n",
       "      <td>-1.753637</td>\n",
       "      <td>0.988106</td>\n",
       "      <td>-2.105286</td>\n",
       "      <td>1.626600</td>\n",
       "    </tr>\n",
       "    <tr>\n",
       "      <th>2017-05-04</th>\n",
       "      <td>-0.582243</td>\n",
       "      <td>-1.146483</td>\n",
       "      <td>-0.321555</td>\n",
       "      <td>-0.846101</td>\n",
       "      <td>-1.051229</td>\n",
       "    </tr>\n",
       "    <tr>\n",
       "      <th>2017-05-05</th>\n",
       "      <td>-1.841099</td>\n",
       "      <td>4.918441</td>\n",
       "      <td>-0.582041</td>\n",
       "      <td>0.499916</td>\n",
       "      <td>-19.653476</td>\n",
       "    </tr>\n",
       "    <tr>\n",
       "      <th>2017-05-06</th>\n",
       "      <td>-3.409866</td>\n",
       "      <td>-1.247116</td>\n",
       "      <td>0.729702</td>\n",
       "      <td>-0.914862</td>\n",
       "      <td>-2.434035</td>\n",
       "    </tr>\n",
       "  </tbody>\n",
       "</table>\n",
       "</div>"
      ],
      "text/plain": [
       "                   A         B         C         D          E\n",
       "2017-05-01  0.000000  0.000000  0.000000  0.000000   0.000000\n",
       "2017-05-02 -2.716441  0.022692 -8.494788 -1.934302  -7.483921\n",
       "2017-05-03 -2.171414 -1.753637  0.988106 -2.105286   1.626600\n",
       "2017-05-04 -0.582243 -1.146483 -0.321555 -0.846101  -1.051229\n",
       "2017-05-05 -1.841099  4.918441 -0.582041  0.499916 -19.653476\n",
       "2017-05-06 -3.409866 -1.247116  0.729702 -0.914862  -2.434035"
      ]
     },
     "execution_count": 31,
     "metadata": {},
     "output_type": "execute_result"
    }
   ],
   "source": [
    "dfchange = df.pct_change()  #求每日变化比例\n",
    "dfchange.fillna(0)"
   ]
  },
  {
   "cell_type": "markdown",
   "metadata": {},
   "source": [
    "count\t            非 NA 值的数量\n",
    "describe\t        针对 Series 或 DF 的列计算汇总统计\n",
    "min , max\t        最小值和最大值\n",
    "idxmin , idxmax\t    最小值和最大值的索引值\n",
    "quantile\t        样本分位数（0 到 1）\n",
    "sum\t                求和\n",
    "mean\t            均值\n",
    "median       \t    中位数\n",
    "mad\t                根据均值计算平均绝对离差\n",
    "var\t                方差\n",
    "std\t                标准差\n",
    "skew\t            样本值的偏度（三阶矩）\n",
    "kurt\t            样本值的峰度（四阶矩）\n",
    "cumsum\t            样本值的累计和\n",
    "cummin , cummax\t    样本值的累计最大值和累计最小值\n",
    "cumprod\t            样本值的累计积\n",
    "diff\t            计算一阶差分\n",
    "pct_change\t        计算百分数变化"
   ]
  },
  {
   "cell_type": "code",
   "execution_count": null,
   "metadata": {
    "collapsed": true
   },
   "outputs": [],
   "source": []
  },
  {
   "cell_type": "code",
   "execution_count": 34,
   "metadata": {},
   "outputs": [
    {
     "data": {
      "text/plain": [
       "2314"
      ]
     },
     "execution_count": 34,
     "metadata": {},
     "output_type": "execute_result"
    }
   ],
   "source": [
    "'14,时间格式'\n",
    "import time\n",
    "import datetime\n",
    "import pandas as pd\n",
    "q = pd.datetime(2012,3,21)\n",
    "p = pd.datetime.today() #datetime对象时间\n",
    "\n",
    "#strftime将对象时间转换成字符串时间\n",
    "qstr = q.strftime(\"%Y-%m-%d %H:%M:%S\") \n",
    "ptup = pd.datetime.timetuple(p) #转换成tumple时间\n",
    "\n",
    "#striptime将字符串时间转换成tumple时间\n",
    "qtup = time.strptime(qstr, \"%Y-%m-%d %H:%M:%S\") \n",
    "qstamp = time.mktime(qtup) #转换成时间戳\n",
    "pstamp = time.mktime(ptup) \n",
    "\n",
    "#计算两天的时间间隔\n",
    "ndays = int((pstamp - qstamp)/(3600*24))\n",
    "ndays"
   ]
  },
  {
   "cell_type": "markdown",
   "metadata": {
    "collapsed": true
   },
   "source": [
    "## 三、matplotlib 库"
   ]
  },
  {
   "cell_type": "markdown",
   "metadata": {},
   "source": [
    "matplotlib 支持函数式绘图和面向对象绘图两种绘图方式。\n"
   ]
  },
  {
   "cell_type": "code",
   "execution_count": 39,
   "metadata": {},
   "outputs": [
    {
     "data": {
      "image/png": "[encoded data removed]",
      "text/plain": [
       "<matplotlib.figure.Figure at 0x7fa8287ad7b8>"
      ]
     },
     "metadata": {},
     "output_type": "display_data"
    }
   ],
   "source": [
    "'1，折线图—————函数式绘图示范'\n",
    "import matplotlib.pyplot as plt\n",
    "%matplotlib inline\n",
    "x = np.linspace(0,2*np.pi,100,endpoint=True)\n",
    "y = np.sin(x)\n",
    "x2 = x;y2 = np.cos(x2)\n",
    "plt.plot(x,y,'b-d',label='中文$sin(x)$')  \n",
    "plt.plot(x2,y2,'r-*',label='$cos(x)$') \n",
    "plt.xlabel('x',fontsize=14);plt.ylabel('y',fontsize=14)\n",
    "plt.grid(color='b' , linewidth='0.3' ,linestyle='--')\n",
    "plt.title('wave graph',fontsize=18,color='r', weight='light' )\n",
    "plt.xlim(min(x)-0.1,max(x)+0.1)\n",
    "plt.ylim(min(y)-0.1,max(y)+0.1)\n",
    "\n",
    "plt.rcParams['font.sans-serif']=['SimHei'] #用来正常显示中文标签\n",
    "plt.rcParams['axes.unicode_minus']=False #用来正常显示负号\n",
    "\n",
    "plt.legend(loc='best',fontsize = 15) ##最优化标签位置\n",
    "plt.annotate('波峰',xy=[np.pi/2,1],xycoords='data',xytext=(-0,-80),\n",
    "             arrowprops=dict(color='red',shrink=0.1),\n",
    "             textcoords='offset points',fontsize = 15,color = 'black')\n",
    "savefig('demo.jpg');\n"
   ]
  },
  {
   "cell_type": "markdown",
   "metadata": {},
   "source": [
    "#### 1，控制颜色\n",
    "\n",
    "颜色之间的对应关系为\n",
    "b---blue   c---cyan  g---green    k----black\n",
    "m---magenta r---red  w---white    y----yellow\n",
    "\n",
    "有四种表示颜色的方式\n",
    "a:用英文全名如：purple                b: 用16进制如：#FF00FF  \n",
    "c:用RGB或RGBA元组（1,0,1,1）          d：灰度强度如：‘0.7’\n",
    "\n",
    "#### 2，控制线型\n",
    "\n",
    "符号和线型之间的对应关系为\n",
    "-      实线                         --     短线\n",
    "-.     短点相间线                    ：     虚点线\n",
    "\n",
    "#### 3，控制标记风格\n",
    "\n",
    ".  Point marker                     ,  Pixel marker\n",
    "o  Circle marker                    +  Plus marker\n",
    "v  Triangle down marker             ^  Triangle up marker \n",
    "<  Triangle left marker             >  Triangle right marker \n",
    "\n",
    "1  Tripod down marker               2  Tripod up marker\n",
    "3  Tripod left marker               4  Tripod right marker\n",
    "\n",
    "s  Square marker                    p  Pentagon marker\n",
    "*  Star marker                      x  Cross (x) marker\n",
    "h  Hexagon marker                   H  Rotated hexagon                 \n",
    "D Diamond marker                    d  Thin diamond marker             \n",
    "| Vertical line marker              _  Horizontal line marker      \n",
    "\n",
    "r'$\\sqrt{2}$'   any Latex expression"
   ]
  },
  {
   "cell_type": "code",
   "execution_count": 40,
   "metadata": {},
   "outputs": [
    {
     "data": {
      "image/png": "[encoded data removed]",
      "text/plain": [
       "<matplotlib.figure.Figure at 0x7fa828863438>"
      ]
     },
     "metadata": {},
     "output_type": "display_data"
    }
   ],
   "source": [
    "'1，折线图—————面向对象绘图示范'\n",
    "import matplotlib.pyplot as plt\n",
    "%matplotlib inline\n",
    "#设置图片大小和像素\n",
    "myfig = plt.figure(2,figsize=(6,4),dpi=60) \n",
    "#使用图像坐标添加子图相对位置\n",
    "ax1 = myfig.add_axes([0,0.3,0.5,0.5]) \n",
    "# [x坐标起点，y坐标起点，x图宽，y图宽]\n",
    "ax2 = myfig.add_axes([0.6,0.9,0.5,0.5]) \n",
    "x = np.linspace(0,2*np.pi,100,endpoint=True)\n",
    "y = np.sin(x)\n",
    "ax1.plot(x,np.sin(x),label='$sin(x)$')\n",
    "ax1.set_title('正弦曲线',color='red',fontsize =18)\n",
    "ax1.legend(loc='best',fontsize=16)\n",
    "ax2.plot(x,np.cos(x),label='$cos(x)$')\n",
    "ax2.set_title('余弦曲线',color='red',fontsize =18)\n",
    "ax2.legend(loc='best',fontsize=16)\n",
    "myfig.set_facecolor([0,1,0,0.5])"
   ]
  },
  {
   "cell_type": "code",
   "execution_count": 42,
   "metadata": {},
   "outputs": [
    {
     "data": {
      "image/png": "[encoded data removed]",
      "text/plain": [
       "<matplotlib.figure.Figure at 0x7fa8286317b8>"
      ]
     },
     "metadata": {},
     "output_type": "display_data"
    }
   ],
   "source": [
    "'2,条形图'\n",
    "import numpy as np;import pandas as pd \n",
    "plt.bar([1,3,5,7,9],[5,2,7,8,2], label=\"Example one\")\n",
    "plt.bar([2,4,6,8,10],[8,6,2,5,6], label=\"Example two\", color='g')\n",
    "plt.xlabel('bar number');plt.ylabel('bar height')\n",
    "plt.title('gragh')\n",
    "plt.legend();"
   ]
  },
  {
   "cell_type": "code",
   "execution_count": 47,
   "metadata": {},
   "outputs": [
    {
     "data": {
      "image/png": "[encoded data removed]",
      "text/plain": [
       "<matplotlib.figure.Figure at 0x7fa8283df208>"
      ]
     },
     "metadata": {},
     "output_type": "display_data"
    }
   ],
   "source": [
    "'3,分布柱状图'\n",
    "population_ages = [22,55,62,45,21,22,34,42,42,4,99,102,110,\n",
    "    120,121,122,130,111,115,112,80,75,65,54,44,43,42,48]\n",
    "bins = [0,10,20,30,40,50,60,70,80,90,100,110,120,130]\n",
    "plt.hist(population_ages, bins, histtype='bar', rwidth=0.8)\n",
    "plt.xlabel('x');plt.ylabel('y')\n",
    "plt.title('Interesting Graph');"
   ]
  },
  {
   "cell_type": "code",
   "execution_count": 49,
   "metadata": {},
   "outputs": [
    {
     "data": {
      "image/png": "[encoded data removed]",
      "text/plain": [
       "<matplotlib.figure.Figure at 0x7fa8280d5be0>"
      ]
     },
     "metadata": {},
     "output_type": "display_data"
    }
   ],
   "source": [
    "'4,散点图'\n",
    "x = [1,2,3,4,5,6,7,8]\n",
    "y = [5,2,4,2,1,4,5,2]\n",
    "\n",
    "plt.scatter(x,y, label='skitscat', color='b', s=25)\n",
    "\n",
    "plt.xlabel('x');plt.ylabel('y')\n",
    "plt.title('Interesting Graph\\nCheck it out')\n",
    "plt.grid()\n",
    "plt.show()"
   ]
  },
  {
   "cell_type": "code",
   "execution_count": 50,
   "metadata": {},
   "outputs": [
    {
     "data": {
      "image/png": "[encoded data removed]",
      "text/plain": [
       "<matplotlib.figure.Figure at 0x7fa828351518>"
      ]
     },
     "metadata": {},
     "output_type": "display_data"
    }
   ],
   "source": [
    "'5,饼图'\n",
    "slices = [7,2,2,13]\n",
    "activities = ['sleeping','eating','working','playing']\n",
    "cols = ['c','m','r','b']\n",
    "\n",
    "plt.pie(slices,labels=activities,colors=cols,\n",
    "        startangle=90,shadow= True,explode=(0,0.1,0,0),\n",
    "        autopct='%1.1f%%')\n",
    "\n",
    "plt.title('Interesting Graph');\n",
    "plt.show()"
   ]
  },
  {
   "cell_type": "code",
   "execution_count": 53,
   "metadata": {},
   "outputs": [
    {
     "data": {
      "image/png": "[encoded data removed]",
      "text/plain": [
       "<matplotlib.figure.Figure at 0x7fa827fcb320>"
      ]
     },
     "metadata": {},
     "output_type": "display_data"
    }
   ],
   "source": [
    "'6，绘制子图'\n",
    "\n",
    "def f(t):return np.exp(-t) * np.cos(2 * np.pi * t)  \n",
    "t1 = np.arange(0, 5, 0.1) ;t2 = np.arange(0, 5, 0.02)   \n",
    "plt.figure(10,figsize=[8,6])  \n",
    "plt.subplot(221)  #分成2x2，占用第一个，即第一行第一列的子图\n",
    "plt.plot(t1, f(t1), 'bo', t2, f(t2), 'r--')  \n",
    "plt.subplot(222)  #分成2x2，占用第二个，即第一行第二列的子图\n",
    "plt.plot(t2, np.cos(2 * np.pi * t2), 'r--')  \n",
    "plt.subplot(212)  #分成2x1，占用第二个，即第二行\n",
    "plt.plot([1, 2, 3, 4], [1, 4, 9, 16])\n",
    "plt.suptitle('Interesting Graph',fontsize = 15)\n",
    "plt.show()"
   ]
  },
  {
   "cell_type": "markdown",
   "metadata": {
    "collapsed": true
   },
   "source": [
    "## Python 教程 http://www.cnblogs.com/chaosimple/p/4153083.html"
   ]
  }
 ],
 "metadata": {
  "kernelspec": {
   "display_name": "Python 3",
   "language": "python",
   "name": "python3"
  },
  "language_info": {
   "codemirror_mode": {
    "name": "ipython",
    "version": 3
   },
   "file_extension": ".py",
   "mimetype": "text/x-python",
   "name": "python",
   "nbconvert_exporter": "python",
   "pygments_lexer": "ipython3",
   "version": "3.6.7"
  },
  "toc": {
   "base_numbering": 1,
   "nav_menu": {},
   "number_sections": false,
   "sideBar": true,
   "skip_h1_title": false,
   "title_cell": "MarkDown菜单",
   "title_sidebar": "Contents",
   "toc_cell": false,
   "toc_position": {},
   "toc_section_display": true,
   "toc_window_display": false
  }
 },
 "nbformat": 4,
 "nbformat_minor": 1
}
