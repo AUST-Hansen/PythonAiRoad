{
 "cells": [
  {
   "cell_type": "code",
   "execution_count": 1,
   "metadata": {},
   "outputs": [],
   "source": [
    "!git config --global user.name \"lyhue1991\"\n",
    "!git config --global user.email \"lyhue1991@163.com\"\n",
    "\n",
    "# 出现一些类似 warning: LF will be replaced by CRLF in <file-name>. 可启用如下设置。\n",
    "!git config --global core.autocrlf false\n",
    "\n",
    "# 配置打印历史commit的快捷命令\n",
    "!git config --global alias.lg \"log --oneline --graph --all\""
   ]
  },
  {
   "cell_type": "code",
   "execution_count": 2,
   "metadata": {},
   "outputs": [
    {
     "name": "stdout",
     "output_type": "stream",
     "text": [
      "Reinitialized existing Git repository in /Users/liangyun/CodeFiles/PythonAiRoad/.git/\r\n"
     ]
    }
   ],
   "source": [
    "!git init"
   ]
  },
  {
   "cell_type": "code",
   "execution_count": 1,
   "metadata": {
    "ExecuteTime": {
     "end_time": "2020-05-05T03:53:45.422151Z",
     "start_time": "2020-05-05T03:53:44.367880Z"
    }
   },
   "outputs": [],
   "source": [
    "!git add -A "
   ]
  },
  {
   "cell_type": "code",
   "execution_count": 2,
   "metadata": {
    "ExecuteTime": {
     "end_time": "2020-05-05T03:53:49.181118Z",
     "start_time": "2020-05-05T03:53:48.956169Z"
    }
   },
   "outputs": [
    {
     "name": "stdout",
     "output_type": "stream",
     "text": [
      "[master d77ea02] add svd\r\n",
      " 13 files changed, 184 insertions(+), 55 deletions(-)\r\n",
      " create mode 100644 data/SVD与PCA降维.png\r\n",
      " create mode 100644 data/SVD公式.png\r\n",
      " create mode 100644 data/SVD分解与数据压缩.pdf\r\n",
      " create mode 100644 data/SVD分解与数据压缩.png\r\n",
      " create mode 100644 data/SVD分解与行降维.png\r\n",
      " create mode 100644 data/SVD奇异值分解.pptx\r\n",
      " delete mode 100644 data/tf_model_savedmodel/saved_model.pb\r\n",
      " delete mode 100644 data/tf_model_savedmodel/variables/variables.data-00000-of-00001\r\n",
      " delete mode 100644 data/tf_model_savedmodel/variables/variables.index\r\n",
      " rename data/{~$DBSCAN聚类算法.pptx => ~$SVD奇异值分解.pptx} (100%)\r\n"
     ]
    }
   ],
   "source": [
    "!git commit -m\"add svd\""
   ]
  },
  {
   "cell_type": "code",
   "execution_count": 5,
   "metadata": {},
   "outputs": [],
   "source": [
    "!git remote add origin https://github.com/lyhue1991/PythonAiRoad"
   ]
  },
  {
   "cell_type": "code",
   "execution_count": 3,
   "metadata": {
    "ExecuteTime": {
     "end_time": "2020-05-05T03:54:06.870906Z",
     "start_time": "2020-05-05T03:53:52.045940Z"
    }
   },
   "outputs": [
    {
     "name": "stdout",
     "output_type": "stream",
     "text": [
      "Enumerating objects: 17, done.\n",
      "Counting objects: 100% (17/17), done.\n",
      "Delta compression using up to 4 threads\n",
      "Compressing objects: 100% (12/12), done.\n",
      "Writing objects: 100% (12/12), 8.63 MiB | 1.85 MiB/s, done.\n",
      "Total 12 (delta 4), reused 0 (delta 0)\n",
      "remote: Resolving deltas: 100% (4/4), completed with 4 local objects.\u001b[K\n",
      "To https://github.com/lyhue1991/PythonAiRoad\n",
      "   22f51a2..d77ea02  master -> master\n"
     ]
    }
   ],
   "source": [
    "!git push origin master "
   ]
  },
  {
   "cell_type": "code",
   "execution_count": null,
   "metadata": {},
   "outputs": [],
   "source": [
    "!git rebase origin/master"
   ]
  }
 ],
 "metadata": {
  "kernelspec": {
   "display_name": "Python 3",
   "language": "python",
   "name": "python3"
  },
  "language_info": {
   "codemirror_mode": {
    "name": "ipython",
    "version": 3
   },
   "file_extension": ".py",
   "mimetype": "text/x-python",
   "name": "python",
   "nbconvert_exporter": "python",
   "pygments_lexer": "ipython3",
   "version": "3.7.3"
  }
 },
 "nbformat": 4,
 "nbformat_minor": 2
}
