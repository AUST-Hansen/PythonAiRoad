{
 "cells": [
  {
   "cell_type": "code",
   "execution_count": 1,
   "metadata": {},
   "outputs": [],
   "source": [
    "!git config --global user.name \"lyhue1991\"\n",
    "!git config --global user.email \"lyhue1991@163.com\"\n",
    "\n",
    "# 出现一些类似 warning: LF will be replaced by CRLF in <file-name>. 可启用如下设置。\n",
    "!git config --global core.autocrlf false\n",
    "\n",
    "# 配置打印历史commit的快捷命令\n",
    "!git config --global alias.lg \"log --oneline --graph --all\""
   ]
  },
  {
   "cell_type": "code",
   "execution_count": 2,
   "metadata": {},
   "outputs": [
    {
     "name": "stdout",
     "output_type": "stream",
     "text": [
      "Reinitialized existing Git repository in /Users/liangyun/CodeFiles/PythonAiRoad/.git/\r\n"
     ]
    }
   ],
   "source": [
    "!git init"
   ]
  },
  {
   "cell_type": "code",
   "execution_count": 3,
   "metadata": {},
   "outputs": [],
   "source": [
    "!git add -A "
   ]
  },
  {
   "cell_type": "code",
   "execution_count": 4,
   "metadata": {},
   "outputs": [
    {
     "name": "stdout",
     "output_type": "stream",
     "text": [
      "[master (root-commit) 518a19b] v01\n",
      " 12 files changed, 31469 insertions(+)\n",
      " create mode 100644 .ipynb_checkpoints/30分钟学会pyechart数据可视化-checkpoint.ipynb\n",
      " create mode 100644 .ipynb_checkpoints/3小时入门numpy,pandas,matplotlib-checkpoint.ipynb\n",
      " create mode 100644 .ipynb_checkpoints/commit-to-github-checkpoint.ipynb\n",
      " create mode 100644 24式加速你的Python.ipynb\n",
      " create mode 100644 30分钟学会pyechart数据可视化.ipynb\n",
      " create mode 100644 3小时Python入门.ipynb\n",
      " create mode 100644 3小时入门numpy,pandas,matplotlib.ipynb\n",
      " create mode 100644 commit-to-github.ipynb\n",
      " create mode 100644 data/class-relationship-diagram.png\n",
      " create mode 100644 data/折线图示范.html\n",
      " create mode 100644 data/散点图示范.html\n",
      " create mode 100644 data/柱形图示范.html\n"
     ]
    }
   ],
   "source": [
    "!git commit -m\"v01\""
   ]
  },
  {
   "cell_type": "code",
   "execution_count": 5,
   "metadata": {},
   "outputs": [],
   "source": [
    "!git remote add origin https://github.com/lyhue1991/PythonAiRoad"
   ]
  },
  {
   "cell_type": "code",
   "execution_count": 6,
   "metadata": {},
   "outputs": [
    {
     "name": "stdout",
     "output_type": "stream",
     "text": [
      "Enumerating objects: 14, done.\n",
      "Counting objects: 100% (14/14), done.\n",
      "Delta compression using up to 4 threads\n",
      "Compressing objects: 100% (14/14), done.\n",
      "Writing objects: 100% (14/14), 475.06 KiB | 5.72 MiB/s, done.\n",
      "Total 14 (delta 2), reused 0 (delta 0)\n",
      "remote: Resolving deltas: 100% (2/2), done.\u001b[K\n",
      "To https://github.com/lyhue1991/PythonAiRoad\n",
      " + 9e0c1a4...518a19b master -> master (forced update)\n"
     ]
    }
   ],
   "source": [
    "!git push -f origin master "
   ]
  },
  {
   "cell_type": "code",
   "execution_count": null,
   "metadata": {},
   "outputs": [],
   "source": [
    "!git rebase origin/master"
   ]
  }
 ],
 "metadata": {
  "kernelspec": {
   "display_name": "Python 3",
   "language": "python",
   "name": "python3"
  },
  "language_info": {
   "codemirror_mode": {
    "name": "ipython",
    "version": 3
   },
   "file_extension": ".py",
   "mimetype": "text/x-python",
   "name": "python",
   "nbconvert_exporter": "python",
   "pygments_lexer": "ipython3",
   "version": "3.7.3"
  }
 },
 "nbformat": 4,
 "nbformat_minor": 2
}
