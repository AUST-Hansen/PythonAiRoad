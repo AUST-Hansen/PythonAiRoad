{
 "cells": [
  {
   "cell_type": "code",
   "execution_count": 1,
   "metadata": {},
   "outputs": [],
   "source": [
    "!git config --global user.name \"lyhue1991\"\n",
    "!git config --global user.email \"lyhue1991@163.com\"\n",
    "\n",
    "# 出现一些类似 warning: LF will be replaced by CRLF in <file-name>. 可启用如下设置。\n",
    "!git config --global core.autocrlf false\n",
    "\n",
    "# 配置打印历史commit的快捷命令\n",
    "!git config --global alias.lg \"log --oneline --graph --all\""
   ]
  },
  {
   "cell_type": "code",
   "execution_count": 2,
   "metadata": {},
   "outputs": [
    {
     "name": "stdout",
     "output_type": "stream",
     "text": [
      "Reinitialized existing Git repository in /Users/liangyun/CodeFiles/PythonAiRoad/.git/\r\n"
     ]
    }
   ],
   "source": [
    "!git init"
   ]
  },
  {
   "cell_type": "code",
   "execution_count": 1,
   "metadata": {},
   "outputs": [],
   "source": [
    "!git add -A "
   ]
  },
  {
   "cell_type": "code",
   "execution_count": 2,
   "metadata": {},
   "outputs": [
    {
     "name": "stdout",
     "output_type": "stream",
     "text": [
      "[master ce02ec8] add LightGBM\r\n",
      " 13 files changed, 1123 insertions(+), 40 deletions(-)\r\n",
      " create mode 100644 .ipynb_checkpoints/30分钟学会LightGBM-checkpoint.ipynb\r\n",
      " create mode 100644 30分钟学会LightGBM.ipynb\r\n",
      " create mode 100644 data/30分钟看懂LightGBM的基本原理.pptx\r\n",
      " create mode 100644 data/LightGBM&XGBoost.png\r\n",
      " create mode 100644 data/XGBoost目标函数.png\r\n",
      " create mode 100644 data/gbm.model\r\n",
      " create mode 100644 data/互斥特征捆绑算法.png\r\n",
      " create mode 100644 data/基于梯度的单边采样算法.png\r\n",
      " create mode 100644 data/直方图加速.png\r\n",
      " create mode 100644 data/直方图算法.png\r\n",
      " create mode 100644 data/预排序算法.png\r\n"
     ]
    }
   ],
   "source": [
    "!git commit -m\"add LightGBM\""
   ]
  },
  {
   "cell_type": "code",
   "execution_count": 5,
   "metadata": {},
   "outputs": [],
   "source": [
    "!git remote add origin https://github.com/lyhue1991/PythonAiRoad"
   ]
  },
  {
   "cell_type": "code",
   "execution_count": 3,
   "metadata": {},
   "outputs": [
    {
     "name": "stdout",
     "output_type": "stream",
     "text": [
      "Enumerating objects: 22, done.\n",
      "Counting objects: 100% (22/22), done.\n",
      "Delta compression using up to 4 threads\n",
      "Compressing objects: 100% (17/17), done.\n",
      "Writing objects: 100% (17/17), 565.44 KiB | 15.28 MiB/s, done.\n",
      "Total 17 (delta 5), reused 0 (delta 0)\n",
      "remote: Resolving deltas: 100% (5/5), completed with 5 local objects.\u001b[K\n",
      "To https://github.com/lyhue1991/PythonAiRoad\n",
      "   b50f308..ce02ec8  master -> master\n"
     ]
    }
   ],
   "source": [
    "!git push origin master "
   ]
  },
  {
   "cell_type": "code",
   "execution_count": null,
   "metadata": {},
   "outputs": [],
   "source": [
    "!git rebase origin/master"
   ]
  }
 ],
 "metadata": {
  "kernelspec": {
   "display_name": "Python 3",
   "language": "python",
   "name": "python3"
  },
  "language_info": {
   "codemirror_mode": {
    "name": "ipython",
    "version": 3
   },
   "file_extension": ".py",
   "mimetype": "text/x-python",
   "name": "python",
   "nbconvert_exporter": "python",
   "pygments_lexer": "ipython3",
   "version": "3.7.3"
  }
 },
 "nbformat": 4,
 "nbformat_minor": 2
}
