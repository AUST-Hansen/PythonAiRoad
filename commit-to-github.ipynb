{
 "cells": [
  {
   "cell_type": "code",
   "execution_count": 1,
   "metadata": {},
   "outputs": [],
   "source": [
    "!git config --global user.name \"lyhue1991\"\n",
    "!git config --global user.email \"lyhue1991@163.com\"\n",
    "\n",
    "# 出现一些类似 warning: LF will be replaced by CRLF in <file-name>. 可启用如下设置。\n",
    "!git config --global core.autocrlf false\n",
    "\n",
    "# 配置打印历史commit的快捷命令\n",
    "!git config --global alias.lg \"log --oneline --graph --all\""
   ]
  },
  {
   "cell_type": "code",
   "execution_count": 2,
   "metadata": {},
   "outputs": [
    {
     "name": "stdout",
     "output_type": "stream",
     "text": [
      "Reinitialized existing Git repository in /Users/liangyun/CodeFiles/PythonAiRoad/.git/\r\n"
     ]
    }
   ],
   "source": [
    "!git init"
   ]
  },
  {
   "cell_type": "code",
   "execution_count": 1,
   "metadata": {
    "ExecuteTime": {
     "end_time": "2020-08-11T00:13:14.682896Z",
     "start_time": "2020-08-11T00:13:14.484858Z"
    }
   },
   "outputs": [],
   "source": [
    "!git add -A "
   ]
  },
  {
   "cell_type": "code",
   "execution_count": 2,
   "metadata": {
    "ExecuteTime": {
     "end_time": "2020-08-11T00:13:22.442629Z",
     "start_time": "2020-08-11T00:13:22.233335Z"
    }
   },
   "outputs": [
    {
     "name": "stdout",
     "output_type": "stream",
     "text": [
      "[master 4c28a44] add EM算法\r\n",
      " 5 files changed, 447 insertions(+), 43 deletions(-)\r\n",
      " create mode 100644 .ipynb_checkpoints/一文读懂EM最大期望算法和GMM高斯混合模型-checkpoint.md\r\n",
      " rename 一文读懂统计学中的矩估计、极大似然估计和贝叶斯估计.md => .ipynb_checkpoints/一文读懂矩估计、极大似然估计和贝叶斯估计-checkpoint.md (96%)\r\n",
      " create mode 100644 一文读懂EM最大期望算法和GMM高斯混合模型.md\r\n",
      " rename .ipynb_checkpoints/一文读懂统计学中的矩估计、极大似然估计和贝叶斯估计-checkpoint.md => 一文读懂矩估计、极大似然估计和贝叶斯估计.md (94%)\r\n"
     ]
    }
   ],
   "source": [
    "!git commit -m\"add EM算法\""
   ]
  },
  {
   "cell_type": "code",
   "execution_count": 5,
   "metadata": {},
   "outputs": [],
   "source": [
    "!git remote add origin https://github.com/lyhue1991/PythonAiRoad"
   ]
  },
  {
   "cell_type": "code",
   "execution_count": 3,
   "metadata": {
    "ExecuteTime": {
     "end_time": "2020-08-11T00:13:32.383961Z",
     "start_time": "2020-08-11T00:13:26.048590Z"
    }
   },
   "outputs": [
    {
     "name": "stdout",
     "output_type": "stream",
     "text": [
      "Enumerating objects: 9, done.\n",
      "Counting objects: 100% (9/9), done.\n",
      "Delta compression using up to 4 threads\n",
      "Compressing objects: 100% (6/6), done.\n",
      "Writing objects: 100% (6/6), 6.50 KiB | 3.25 MiB/s, done.\n",
      "Total 6 (delta 3), reused 0 (delta 0)\n",
      "remote: Resolving deltas: 100% (3/3), completed with 3 local objects.\u001b[K\n",
      "To https://github.com/lyhue1991/PythonAiRoad\n",
      "   1f2b6ff..4c28a44  master -> master\n"
     ]
    }
   ],
   "source": [
    "!git push origin master "
   ]
  },
  {
   "cell_type": "code",
   "execution_count": null,
   "metadata": {},
   "outputs": [],
   "source": [
    "!git rebase origin/master"
   ]
  }
 ],
 "metadata": {
  "kernelspec": {
   "display_name": "Python 3",
   "language": "python",
   "name": "python3"
  },
  "language_info": {
   "codemirror_mode": {
    "name": "ipython",
    "version": 3
   },
   "file_extension": ".py",
   "mimetype": "text/x-python",
   "name": "python",
   "nbconvert_exporter": "python",
   "pygments_lexer": "ipython3",
   "version": "3.7.3"
  }
 },
 "nbformat": 4,
 "nbformat_minor": 2
}
