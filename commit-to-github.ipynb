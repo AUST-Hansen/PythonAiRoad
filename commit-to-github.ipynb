{
 "cells": [
  {
   "cell_type": "code",
   "execution_count": 1,
   "metadata": {},
   "outputs": [],
   "source": [
    "!git config --global user.name \"lyhue1991\"\n",
    "!git config --global user.email \"lyhue1991@163.com\"\n",
    "\n",
    "# 出现一些类似 warning: LF will be replaced by CRLF in <file-name>. 可启用如下设置。\n",
    "!git config --global core.autocrlf false\n",
    "\n",
    "# 配置打印历史commit的快捷命令\n",
    "!git config --global alias.lg \"log --oneline --graph --all\""
   ]
  },
  {
   "cell_type": "code",
   "execution_count": 2,
   "metadata": {},
   "outputs": [
    {
     "name": "stdout",
     "output_type": "stream",
     "text": [
      "Reinitialized existing Git repository in /Users/liangyun/CodeFiles/PythonAiRoad/.git/\r\n"
     ]
    }
   ],
   "source": [
    "!git init"
   ]
  },
  {
   "cell_type": "code",
   "execution_count": 1,
   "metadata": {
    "ExecuteTime": {
     "end_time": "2020-07-25T05:40:45.284155Z",
     "start_time": "2020-07-25T05:40:43.983370Z"
    }
   },
   "outputs": [],
   "source": [
    "!git add -A "
   ]
  },
  {
   "cell_type": "code",
   "execution_count": 2,
   "metadata": {
    "ExecuteTime": {
     "end_time": "2020-07-25T05:40:47.577745Z",
     "start_time": "2020-07-25T05:40:47.374632Z"
    }
   },
   "outputs": [
    {
     "name": "stdout",
     "output_type": "stream",
     "text": [
      "[master 55a6a77] add pillow\r\n",
      " 25 files changed, 801 insertions(+), 18 deletions(-)\r\n",
      " create mode 100644 .ipynb_checkpoints/10分钟学会Pillow图像处理16式-checkpoint.md\r\n",
      " create mode 100644 10分钟学会Pillow图像处理16式.md\r\n",
      " create mode 100644 data/Arial.ttf\r\n",
      " create mode 100644 data/simsun.ttc\r\n",
      " create mode 100644 data/灰色渐变.png\r\n",
      " create mode 100644 data/猫咪图片.jpg\r\n",
      " create mode 100644 data/猫咪图片.png\r\n",
      " create mode 100644 data/猫咪图片上下翻转.png\r\n",
      " create mode 100644 data/猫咪图片合并通道.png\r\n",
      " create mode 100644 data/猫咪图片左右翻转.png\r\n",
      " create mode 100644 data/猫咪图片截取.png\r\n",
      " create mode 100644 data/猫咪图片提取边缘.png\r\n",
      " create mode 100644 data/猫咪图片旋转.png\r\n",
      " create mode 100644 data/猫咪图片添加文字.png\r\n",
      " create mode 100644 data/猫咪图片添加椭圆.png\r\n",
      " create mode 100644 data/猫咪图片添加直线.png\r\n",
      " create mode 100644 data/猫咪图片灰度图.png\r\n",
      " create mode 100644 data/猫咪图片粘贴图片.png\r\n",
      " create mode 100644 data/猫咪图片绘制矩形.png\r\n",
      " create mode 100644 data/猫咪图片缩小.png\r\n",
      " create mode 100644 data/猫咪图片蓝色通道.png\r\n",
      " create mode 100644 data/猫咪图片通道.png\r\n",
      " create mode 100644 data/猫咪图片高斯模糊.png\r\n"
     ]
    }
   ],
   "source": [
    "!git commit -m\"add pillow\""
   ]
  },
  {
   "cell_type": "code",
   "execution_count": 5,
   "metadata": {},
   "outputs": [],
   "source": [
    "!git remote add origin https://github.com/lyhue1991/PythonAiRoad"
   ]
  },
  {
   "cell_type": "code",
   "execution_count": 3,
   "metadata": {
    "ExecuteTime": {
     "end_time": "2020-07-25T05:42:03.416197Z",
     "start_time": "2020-07-25T05:40:50.875785Z"
    }
   },
   "outputs": [
    {
     "name": "stdout",
     "output_type": "stream",
     "text": [
      "Enumerating objects: 34, done.\n",
      "Counting objects: 100% (34/34), done.\n",
      "Delta compression using up to 4 threads\n",
      "Compressing objects: 100% (29/29), done.\n",
      "Writing objects: 100% (29/29), 13.19 MiB | 205.00 KiB/s, done.\n",
      "Total 29 (delta 6), reused 0 (delta 0)\n",
      "remote: Resolving deltas: 100% (6/6), completed with 5 local objects.\u001b[K\n",
      "To https://github.com/lyhue1991/PythonAiRoad\n",
      "   f5dd683..55a6a77  master -> master\n"
     ]
    }
   ],
   "source": [
    "!git push origin master "
   ]
  },
  {
   "cell_type": "code",
   "execution_count": null,
   "metadata": {},
   "outputs": [],
   "source": [
    "!git rebase origin/master"
   ]
  }
 ],
 "metadata": {
  "kernelspec": {
   "display_name": "Python 3",
   "language": "python",
   "name": "python3"
  },
  "language_info": {
   "codemirror_mode": {
    "name": "ipython",
    "version": 3
   },
   "file_extension": ".py",
   "mimetype": "text/x-python",
   "name": "python",
   "nbconvert_exporter": "python",
   "pygments_lexer": "ipython3",
   "version": "3.7.3"
  }
 },
 "nbformat": 4,
 "nbformat_minor": 2
}
