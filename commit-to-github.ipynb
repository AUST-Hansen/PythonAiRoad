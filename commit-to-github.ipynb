{
 "cells": [
  {
   "cell_type": "code",
   "execution_count": 1,
   "metadata": {},
   "outputs": [],
   "source": [
    "!git config --global user.name \"lyhue1991\"\n",
    "!git config --global user.email \"lyhue1991@163.com\"\n",
    "\n",
    "# 出现一些类似 warning: LF will be replaced by CRLF in <file-name>. 可启用如下设置。\n",
    "!git config --global core.autocrlf false\n",
    "\n",
    "# 配置打印历史commit的快捷命令\n",
    "!git config --global alias.lg \"log --oneline --graph --all\""
   ]
  },
  {
   "cell_type": "code",
   "execution_count": 2,
   "metadata": {},
   "outputs": [
    {
     "name": "stdout",
     "output_type": "stream",
     "text": [
      "Reinitialized existing Git repository in /Users/liangyun/CodeFiles/PythonAiRoad/.git/\r\n"
     ]
    }
   ],
   "source": [
    "!git init"
   ]
  },
  {
   "cell_type": "code",
   "execution_count": 1,
   "metadata": {
    "ExecuteTime": {
     "end_time": "2020-05-02T16:36:16.173672Z",
     "start_time": "2020-05-02T16:36:15.722907Z"
    }
   },
   "outputs": [],
   "source": [
    "!git add -A "
   ]
  },
  {
   "cell_type": "code",
   "execution_count": 2,
   "metadata": {
    "ExecuteTime": {
     "end_time": "2020-05-02T16:36:25.244964Z",
     "start_time": "2020-05-02T16:36:24.952042Z"
    }
   },
   "outputs": [
    {
     "name": "stdout",
     "output_type": "stream",
     "text": [
      "[master 22f51a2] add dbscan\r\n",
      " 40 files changed, 3428 insertions(+), 3900 deletions(-)\r\n",
      " delete mode 100644 .ipynb_checkpoints/20分钟学会DBSCAN聚类算法-checkpoint.ipynb\r\n",
      " create mode 100644 .ipynb_checkpoints/20分钟学会DBSCAN聚类算法-checkpoint.md\r\n",
      " create mode 100644 .ipynb_checkpoints/30分钟学会PCA主成分分析-checkpoint.md\r\n",
      " create mode 100644 .ipynb_checkpoints/30分钟学会SVD奇异值分解-checkpoint.md\r\n",
      " create mode 100644 .ipynb_checkpoints/使用TensorFlow、PyTorch深度学习进行项目实战-checkpoint.md\r\n",
      " delete mode 100644 20分钟学会DBSCAN聚类算法.ipynb\r\n",
      " create mode 100644 20分钟学会DBSCAN聚类算法.md\r\n",
      " create mode 100644 30分钟学会PCA主成分分析.md\r\n",
      " create mode 100644 30分钟学会SVD奇异值分解.md\r\n",
      " create mode 100644 data/PCA主成分分析的几何解析.jpg\r\n",
      " create mode 100644 data/SVD分解形状.png\r\n",
      " create mode 100644 data/boston房价数据.png\r\n",
      " create mode 100644 data/dbscan_sklearn输出可视化.png\r\n",
      " create mode 100644 data/dbscan手工聚类.png\r\n",
      " create mode 100644 data/dbscan手工聚类结果.png\r\n",
      " create mode 100644 data/dbscan数据head.png\r\n",
      " create mode 100644 data/dbscan的dfcores.png\r\n",
      " create mode 100644 data/dbscan的dfdata.png\r\n",
      " create mode 100644 data/dbscan的dfpairs.png\r\n",
      " create mode 100644 data/dbscan输入散点图.png\r\n",
      " create mode 100644 data/net_parameter.pkl\r\n",
      " create mode 100644 data/pca降维散点图可视化.png\r\n",
      " create mode 100644 data/pca降维曲线.png\r\n",
      " create mode 100644 data/pca降维示意图.png\r\n",
      " create mode 100644 data/tf_model_savedmodel/saved_model.pb\r\n",
      " create mode 100644 data/tf_model_savedmodel/variables/variables.data-00000-of-00001\r\n",
      " create mode 100644 data/tf_model_savedmodel/variables/variables.index\r\n",
      " create mode 100644 data/tf准确率曲线.png\r\n",
      " create mode 100644 data/tf损失曲线.png\r\n",
      " create mode 100644 data/tf模型结果可视化.png\r\n",
      " create mode 100644 data/tf输入数据.png\r\n",
      " create mode 100644 data/torch准确率曲线.png\r\n",
      " create mode 100644 data/torch可视化.png\r\n",
      " create mode 100644 data/torch的损失曲线.png\r\n",
      " create mode 100644 data/torch训练数据可视化.png\r\n",
      " create mode 100644 data/torch训练结果可视化.png\r\n",
      " create mode 100644 data/奇异值分解.png\r\n",
      " create mode 100644 使用TensorFlow、PyTorch深度学习进行项目实战.md\r\n"
     ]
    }
   ],
   "source": [
    "!git commit -m\"add dbscan\""
   ]
  },
  {
   "cell_type": "code",
   "execution_count": 5,
   "metadata": {},
   "outputs": [],
   "source": [
    "!git remote add origin https://github.com/lyhue1991/PythonAiRoad"
   ]
  },
  {
   "cell_type": "code",
   "execution_count": 3,
   "metadata": {
    "ExecuteTime": {
     "end_time": "2020-05-02T16:36:44.870432Z",
     "start_time": "2020-05-02T16:36:31.932198Z"
    }
   },
   "outputs": [
    {
     "name": "stdout",
     "output_type": "stream",
     "text": [
      "Enumerating objects: 43, done.\n",
      "Counting objects: 100% (43/43), done.\n",
      "Delta compression using up to 4 threads\n",
      "Compressing objects: 100% (39/39), done.\n",
      "Writing objects: 100% (39/39), 1.36 MiB | 529.00 KiB/s, done.\n",
      "Total 39 (delta 3), reused 0 (delta 0)\n",
      "remote: Resolving deltas: 100% (3/3), completed with 2 local objects.\u001b[K\n",
      "To https://github.com/lyhue1991/PythonAiRoad\n",
      "   f41e04e..22f51a2  master -> master\n"
     ]
    }
   ],
   "source": [
    "!git push origin master "
   ]
  },
  {
   "cell_type": "code",
   "execution_count": null,
   "metadata": {},
   "outputs": [],
   "source": [
    "!git rebase origin/master"
   ]
  }
 ],
 "metadata": {
  "kernelspec": {
   "display_name": "Python 3",
   "language": "python",
   "name": "python3"
  },
  "language_info": {
   "codemirror_mode": {
    "name": "ipython",
    "version": 3
   },
   "file_extension": ".py",
   "mimetype": "text/x-python",
   "name": "python",
   "nbconvert_exporter": "python",
   "pygments_lexer": "ipython3",
   "version": "3.7.3"
  }
 },
 "nbformat": 4,
 "nbformat_minor": 2
}
