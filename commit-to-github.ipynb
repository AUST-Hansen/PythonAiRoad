{
 "cells": [
  {
   "cell_type": "code",
   "execution_count": 1,
   "metadata": {},
   "outputs": [],
   "source": [
    "!git config --global user.name \"lyhue1991\"\n",
    "!git config --global user.email \"lyhue1991@163.com\"\n",
    "\n",
    "# 出现一些类似 warning: LF will be replaced by CRLF in <file-name>. 可启用如下设置。\n",
    "!git config --global core.autocrlf false\n",
    "\n",
    "# 配置打印历史commit的快捷命令\n",
    "!git config --global alias.lg \"log --oneline --graph --all\""
   ]
  },
  {
   "cell_type": "code",
   "execution_count": 2,
   "metadata": {},
   "outputs": [
    {
     "name": "stdout",
     "output_type": "stream",
     "text": [
      "Reinitialized existing Git repository in /Users/liangyun/CodeFiles/PythonAiRoad/.git/\r\n"
     ]
    }
   ],
   "source": [
    "!git init"
   ]
  },
  {
   "cell_type": "code",
   "execution_count": 1,
   "metadata": {
    "ExecuteTime": {
     "end_time": "2020-07-26T11:42:44.248067Z",
     "start_time": "2020-07-26T11:42:43.926074Z"
    }
   },
   "outputs": [],
   "source": [
    "!git add -A "
   ]
  },
  {
   "cell_type": "code",
   "execution_count": 2,
   "metadata": {
    "ExecuteTime": {
     "end_time": "2020-07-26T11:42:50.605738Z",
     "start_time": "2020-07-26T11:42:50.390891Z"
    }
   },
   "outputs": [
    {
     "name": "stdout",
     "output_type": "stream",
     "text": [
      "[master 3e146de] add xgboost\r\n",
      " 19 files changed, 1261 insertions(+), 1020 deletions(-)\r\n",
      " delete mode 100644 .ipynb_checkpoints/30分钟学会LightGBM-checkpoint.ipynb\r\n",
      " create mode 100644 .ipynb_checkpoints/30分钟学会LightGBM-checkpoint.md\r\n",
      " create mode 100644 .ipynb_checkpoints/30分钟学会XGBoost-checkpoint.md\r\n",
      " delete mode 100644 30分钟学会LightGBM.ipynb\r\n",
      " create mode 100644 30分钟学会LightGBM.md\r\n",
      " create mode 100644 30分钟学会XGBoost.md\r\n",
      " create mode 100644 data/bst.model\r\n",
      " create mode 100644 data/xgboost候选分裂点位.png\r\n",
      " create mode 100644 data/xgboost假设空间.png\r\n",
      " create mode 100644 data/xgboost分裂增益.png\r\n",
      " create mode 100644 data/xgboost基模型.png\r\n",
      " create mode 100644 data/xgboost基模型2.png\r\n",
      " create mode 100644 data/xgboost正则化.png\r\n",
      " create mode 100644 data/xgboost特征重要性.png\r\n",
      " create mode 100644 data/xgboost目标函数结构.png\r\n",
      " create mode 100644 data/xgboost迭代曲线.png\r\n",
      " create mode 100644 data/第t棵树学什么.png\r\n",
      " create mode 100644 data/第t棵树学什么2.png\r\n"
     ]
    }
   ],
   "source": [
    "!git commit -m\"add xgboost\""
   ]
  },
  {
   "cell_type": "code",
   "execution_count": 5,
   "metadata": {},
   "outputs": [],
   "source": [
    "!git remote add origin https://github.com/lyhue1991/PythonAiRoad"
   ]
  },
  {
   "cell_type": "code",
   "execution_count": 3,
   "metadata": {
    "ExecuteTime": {
     "end_time": "2020-07-26T11:43:03.240879Z",
     "start_time": "2020-07-26T11:42:54.664984Z"
    }
   },
   "outputs": [
    {
     "name": "stdout",
     "output_type": "stream",
     "text": [
      "Enumerating objects: 24, done.\n",
      "Counting objects: 100% (24/24), done.\n",
      "Delta compression using up to 4 threads\n",
      "Compressing objects: 100% (20/20), done.\n",
      "Writing objects: 100% (20/20), 1014.50 KiB | 17.19 MiB/s, done.\n",
      "Total 20 (delta 5), reused 0 (delta 0)\n",
      "remote: Resolving deltas: 100% (5/5), completed with 4 local objects.\u001b[K\n",
      "To https://github.com/lyhue1991/PythonAiRoad\n",
      "   55a6a77..3e146de  master -> master\n"
     ]
    }
   ],
   "source": [
    "!git push origin master "
   ]
  },
  {
   "cell_type": "code",
   "execution_count": null,
   "metadata": {},
   "outputs": [],
   "source": [
    "!git rebase origin/master"
   ]
  }
 ],
 "metadata": {
  "kernelspec": {
   "display_name": "Python 3",
   "language": "python",
   "name": "python3"
  },
  "language_info": {
   "codemirror_mode": {
    "name": "ipython",
    "version": 3
   },
   "file_extension": ".py",
   "mimetype": "text/x-python",
   "name": "python",
   "nbconvert_exporter": "python",
   "pygments_lexer": "ipython3",
   "version": "3.7.3"
  }
 },
 "nbformat": 4,
 "nbformat_minor": 2
}
